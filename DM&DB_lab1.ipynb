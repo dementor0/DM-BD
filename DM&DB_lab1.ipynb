{
 "cells": [
  {
   "cell_type": "markdown",
   "metadata": {},
   "source": [
    " "
   ]
  },
  {
   "cell_type": "markdown",
   "metadata": {},
   "source": [
    "## О Jupyter notebook"
   ]
  },
  {
   "cell_type": "markdown",
   "metadata": {
    "collapsed": true
   },
   "source": [
    "Jupyter Notebook — это среда разработки, где сразу можно видеть результат выполнения кода и его отдельных фрагментов. Отличие от традиционной среды разработки в том, что код можно разбить на куски и выполнять их в произвольном порядке.\n",
    "Для запуска кода в ячейке можно воспользоваться меню сверху или нажать клавиши \"Enter+Shift\".\n",
    "\n",
    "Основная область применения ноутбуков — машинное обучение, нейросети, визуализация данных и статистика.\n",
    "\n",
    "Ещё такую среду часто используют для поэтапной разработки, когда нужно по шагам проверять работу разных фрагментов кода. Дело в том, что код в ноутбуках хранится в независимых ячейках и его можно запускать в любом порядке или поодиночке. Это позволяет быстро экспериментировать с алгоритмами и находить оптимальное решение.\n",
    "\n",
    "Также jupyter-ноутбуки используются при обучении программированию на Python, чтобы писать код и сразу видеть результат его работы.\n",
    "\n",
    "Есть два основных типа ячеек, которые мы рассмотрим:\n",
    "\n",
    "- Ячейка кода содержит код, который должен быть выполнен в ядре, и отображает его вывод ниже.\n",
    "- Ячейка Markdown содержит текст, отформатированный с использованием Markdown, и отображает его вывод на месте при запуске."
   ]
  },
  {
   "cell_type": "code",
   "execution_count": 2,
   "metadata": {},
   "outputs": [
    {
     "data": {
      "text/plain": [
       "4"
      ]
     },
     "execution_count": 2,
     "metadata": {},
     "output_type": "execute_result"
    }
   ],
   "source": [
    "# ячейка с кодом, при выполнении которой появится output\n",
    "2 + 2"
   ]
  },
  {
   "cell_type": "markdown",
   "metadata": {},
   "source": [
    "А это ___ячейка с текстом___."
   ]
  },
  {
   "cell_type": "raw",
   "metadata": {},
   "source": [
    "Ячейка с неразмеченыным текстом."
   ]
  },
  {
   "cell_type": "markdown",
   "metadata": {},
   "source": [
    "Попробуйте создать свои ячейки, написать какой-нибудь код и текст какой-нибудь формулой."
   ]
  },
  {
   "cell_type": "code",
   "execution_count": 3,
   "metadata": {},
   "outputs": [
    {
     "data": {
      "text/plain": [
       "2"
      ]
     },
     "execution_count": 3,
     "metadata": {},
     "output_type": "execute_result"
    }
   ],
   "source": [
    "1 + 1"
   ]
  },
  {
   "cell_type": "markdown",
   "metadata": {},
   "source": [
    "Текст"
   ]
  },
  {
   "cell_type": "markdown",
   "metadata": {},
   "source": [
    "# Текст\n",
    "## Текст\n",
    "### Текст"
   ]
  },
  {
   "cell_type": "markdown",
   "metadata": {},
   "source": [
    "[Здесь](https://athena.brynmawr.edu/jupyter/hub/dblank/public/Jupyter%20Notebook%20Users%20Manual.ipynb) находится <s>не</s>большая заметка о используемом языке разметки Markdown. Он позволяет:\n",
    "\n",
    "0. Составлять упорядоченные списки\n",
    "1. #Делать \n",
    "##заголовки \n",
    "###разного уровня\n",
    "3. Выделять *текст* <s>при</s> **необходимости**\n",
    "4. Добавлять [ссылки](http://imgs.xkcd.com/comics/the_universal_label.png)\n",
    "\n",
    "\n",
    "* Составлять неупорядоченные списки\n",
    "\n",
    "Делать вставки с помощью LaTex:\n",
    "    \n",
    "$\n",
    "\\left\\{\n",
    "\\begin{array}{ll}\n",
    "x = 16 \\sin^3 (t) \\\\ \n",
    "y = 13 \\cos (t) - 5 \\cos (2t) - 2 \\cos (3t) - \\cos (4t) \\\\\n",
    "t \\in [0, 2 \\pi]\n",
    "\\end{array}\n",
    "\\right.$"
   ]
  },
  {
   "cell_type": "markdown",
   "metadata": {},
   "source": [
    "## 1. Табличные данные и Pandas"
   ]
  },
  {
   "cell_type": "markdown",
   "metadata": {},
   "source": [
    "Pandas — это библиотека для работы с данными на Python. Она упрощает жизнь аналитикам: где раньше использовалось 10 строк кода теперь хватит одной.\n",
    "\n",
    "Например, чтобы прочитать данные из csv, в стандартном Python надо сначала решить, как хранить данные, затем открыть файл, прочитать его построчно, отделить значения друг от друга и очистить данные от специальных символов.\n",
    "\n",
    "В Pandas всё проще. Во-первых, не нужно думать, как будут храниться данные — они лежат в датафрейме. Во-вторых, достаточно написать одну команду:\n",
    "\n",
    " data = pd.read_csv('file.csv')\n",
    "\n",
    "Pandas добавляет в Python новые структуры данных — серии и датафреймы. \n",
    "\n",
    "Серии — одномерные массивы данных. Они очень похожи на списки, но отличаются по поведению — например, операции применяются к списку целиком, а в сериях — поэлементно.\n",
    "Еще одно отличие серий от списков — в качестве индексов можно использовать произвольные значения, это делает данные нагляднее.\n",
    "Датафрейм — это проиндексированный многомерный массив значений, соответственно каждый столбец датафрейма, является серией."
   ]
  },
  {
   "cell_type": "code",
   "execution_count": 4,
   "metadata": {},
   "outputs": [],
   "source": [
    "\n",
    "import pandas as pd"
   ]
  },
  {
   "cell_type": "markdown",
   "metadata": {},
   "source": [
    "#### 1. Прочитайте файл с таблицей, выведите последние 10 строк.\n",
    "\n"
   ]
  },
  {
   "cell_type": "code",
   "execution_count": 5,
   "metadata": {},
   "outputs": [
    {
     "data": {
      "text/html": [
       "<div>\n",
       "<style scoped>\n",
       "    .dataframe tbody tr th:only-of-type {\n",
       "        vertical-align: middle;\n",
       "    }\n",
       "\n",
       "    .dataframe tbody tr th {\n",
       "        vertical-align: top;\n",
       "    }\n",
       "\n",
       "    .dataframe thead th {\n",
       "        text-align: right;\n",
       "    }\n",
       "</style>\n",
       "<table border=\"1\" class=\"dataframe\">\n",
       "  <thead>\n",
       "    <tr style=\"text-align: right;\">\n",
       "      <th></th>\n",
       "      <th>event_time</th>\n",
       "      <th>order_id</th>\n",
       "      <th>product_id</th>\n",
       "      <th>category_id</th>\n",
       "      <th>category_code</th>\n",
       "      <th>brand</th>\n",
       "      <th>price</th>\n",
       "      <th>user_id</th>\n",
       "    </tr>\n",
       "  </thead>\n",
       "  <tbody>\n",
       "    <tr>\n",
       "      <th>2633511</th>\n",
       "      <td>2020-11-21 10:05:04 UTC</td>\n",
       "      <td>2388440981134693938</td>\n",
       "      <td>1515966223509088509</td>\n",
       "      <td>2.268105e+18</td>\n",
       "      <td>electronics.smartphone</td>\n",
       "      <td>apple</td>\n",
       "      <td>925.67</td>\n",
       "      <td>1.515916e+18</td>\n",
       "    </tr>\n",
       "    <tr>\n",
       "      <th>2633512</th>\n",
       "      <td>2020-11-21 10:06:01 UTC</td>\n",
       "      <td>2388440981134693939</td>\n",
       "      <td>1515966223509090132</td>\n",
       "      <td>2.268105e+18</td>\n",
       "      <td>computers.peripherals.printer</td>\n",
       "      <td>canon</td>\n",
       "      <td>299.98</td>\n",
       "      <td>1.515916e+18</td>\n",
       "    </tr>\n",
       "    <tr>\n",
       "      <th>2633513</th>\n",
       "      <td>2020-11-21 10:08:14 UTC</td>\n",
       "      <td>2388440981134693940</td>\n",
       "      <td>2273948246856434093</td>\n",
       "      <td>2.268105e+18</td>\n",
       "      <td>NaN</td>\n",
       "      <td>xiaomi</td>\n",
       "      <td>16.18</td>\n",
       "      <td>1.515916e+18</td>\n",
       "    </tr>\n",
       "    <tr>\n",
       "      <th>2633514</th>\n",
       "      <td>2020-11-21 10:08:54 UTC</td>\n",
       "      <td>2388440981134693941</td>\n",
       "      <td>1515966223519279912</td>\n",
       "      <td>2.374499e+18</td>\n",
       "      <td>electronics.video.tv</td>\n",
       "      <td>samsung</td>\n",
       "      <td>1736.09</td>\n",
       "      <td>1.515916e+18</td>\n",
       "    </tr>\n",
       "    <tr>\n",
       "      <th>2633515</th>\n",
       "      <td>2020-11-21 10:08:54 UTC</td>\n",
       "      <td>2388440981134693941</td>\n",
       "      <td>1515966223509088622</td>\n",
       "      <td>2.374499e+18</td>\n",
       "      <td>electronics.video.tv</td>\n",
       "      <td>lg</td>\n",
       "      <td>370.35</td>\n",
       "      <td>1.515916e+18</td>\n",
       "    </tr>\n",
       "    <tr>\n",
       "      <th>2633516</th>\n",
       "      <td>2020-11-21 10:10:01 UTC</td>\n",
       "      <td>2388440981134693942</td>\n",
       "      <td>1515966223526602848</td>\n",
       "      <td>2.268105e+18</td>\n",
       "      <td>electronics.smartphone</td>\n",
       "      <td>oppo</td>\n",
       "      <td>138.87</td>\n",
       "      <td>1.515916e+18</td>\n",
       "    </tr>\n",
       "    <tr>\n",
       "      <th>2633517</th>\n",
       "      <td>2020-11-21 10:10:13 UTC</td>\n",
       "      <td>2388440981134693943</td>\n",
       "      <td>1515966223509089282</td>\n",
       "      <td>2.268105e+18</td>\n",
       "      <td>electronics.smartphone</td>\n",
       "      <td>apple</td>\n",
       "      <td>418.96</td>\n",
       "      <td>1.515916e+18</td>\n",
       "    </tr>\n",
       "    <tr>\n",
       "      <th>2633518</th>\n",
       "      <td>2020-11-21 10:10:30 UTC</td>\n",
       "      <td>2388440981134693944</td>\n",
       "      <td>1515966223509089917</td>\n",
       "      <td>2.268105e+18</td>\n",
       "      <td>appliances.personal.scales</td>\n",
       "      <td>vitek</td>\n",
       "      <td>12.48</td>\n",
       "      <td>1.515916e+18</td>\n",
       "    </tr>\n",
       "    <tr>\n",
       "      <th>2633519</th>\n",
       "      <td>2020-11-21 10:10:30 UTC</td>\n",
       "      <td>2388440981134693944</td>\n",
       "      <td>2273948184839454837</td>\n",
       "      <td>2.268105e+18</td>\n",
       "      <td>NaN</td>\n",
       "      <td>moulinex</td>\n",
       "      <td>41.64</td>\n",
       "      <td>1.515916e+18</td>\n",
       "    </tr>\n",
       "    <tr>\n",
       "      <th>2633520</th>\n",
       "      <td>2020-11-21 10:10:30 UTC</td>\n",
       "      <td>2388440981134693944</td>\n",
       "      <td>1515966223509127566</td>\n",
       "      <td>2.268105e+18</td>\n",
       "      <td>appliances.kitchen.blender</td>\n",
       "      <td>redmond</td>\n",
       "      <td>53.22</td>\n",
       "      <td>1.515916e+18</td>\n",
       "    </tr>\n",
       "  </tbody>\n",
       "</table>\n",
       "</div>"
      ],
      "text/plain": [
       "                      event_time             order_id           product_id  \\\n",
       "2633511  2020-11-21 10:05:04 UTC  2388440981134693938  1515966223509088509   \n",
       "2633512  2020-11-21 10:06:01 UTC  2388440981134693939  1515966223509090132   \n",
       "2633513  2020-11-21 10:08:14 UTC  2388440981134693940  2273948246856434093   \n",
       "2633514  2020-11-21 10:08:54 UTC  2388440981134693941  1515966223519279912   \n",
       "2633515  2020-11-21 10:08:54 UTC  2388440981134693941  1515966223509088622   \n",
       "2633516  2020-11-21 10:10:01 UTC  2388440981134693942  1515966223526602848   \n",
       "2633517  2020-11-21 10:10:13 UTC  2388440981134693943  1515966223509089282   \n",
       "2633518  2020-11-21 10:10:30 UTC  2388440981134693944  1515966223509089917   \n",
       "2633519  2020-11-21 10:10:30 UTC  2388440981134693944  2273948184839454837   \n",
       "2633520  2020-11-21 10:10:30 UTC  2388440981134693944  1515966223509127566   \n",
       "\n",
       "          category_id                  category_code     brand    price  \\\n",
       "2633511  2.268105e+18         electronics.smartphone     apple   925.67   \n",
       "2633512  2.268105e+18  computers.peripherals.printer     canon   299.98   \n",
       "2633513  2.268105e+18                            NaN    xiaomi    16.18   \n",
       "2633514  2.374499e+18           electronics.video.tv   samsung  1736.09   \n",
       "2633515  2.374499e+18           electronics.video.tv        lg   370.35   \n",
       "2633516  2.268105e+18         electronics.smartphone      oppo   138.87   \n",
       "2633517  2.268105e+18         electronics.smartphone     apple   418.96   \n",
       "2633518  2.268105e+18     appliances.personal.scales     vitek    12.48   \n",
       "2633519  2.268105e+18                            NaN  moulinex    41.64   \n",
       "2633520  2.268105e+18     appliances.kitchen.blender   redmond    53.22   \n",
       "\n",
       "              user_id  \n",
       "2633511  1.515916e+18  \n",
       "2633512  1.515916e+18  \n",
       "2633513  1.515916e+18  \n",
       "2633514  1.515916e+18  \n",
       "2633515  1.515916e+18  \n",
       "2633516  1.515916e+18  \n",
       "2633517  1.515916e+18  \n",
       "2633518  1.515916e+18  \n",
       "2633519  1.515916e+18  \n",
       "2633520  1.515916e+18  "
      ]
     },
     "execution_count": 5,
     "metadata": {},
     "output_type": "execute_result"
    }
   ],
   "source": [
    "data = pd.read_csv('data for lab 1.csv')\n",
    "data.tail(10)\n"
   ]
  },
  {
   "cell_type": "markdown",
   "metadata": {},
   "source": [
    "#### 2.  Выведите следующую информацию:\n",
    "1. Сколько всего заказов в исходной выборке данных?\n",
    "2. Количество уникальных категорий товара (category_code)"
   ]
  },
  {
   "cell_type": "code",
   "execution_count": 6,
   "metadata": {
    "scrolled": true
   },
   "outputs": [
    {
     "name": "stdout",
     "output_type": "stream",
     "text": [
      "1435266\n"
     ]
    },
    {
     "data": {
      "text/plain": [
       "511"
      ]
     },
     "execution_count": 6,
     "metadata": {},
     "output_type": "execute_result"
    }
   ],
   "source": [
    "data = pd.read_csv('data for lab 1.csv')\n",
    "print(len(data['order_id'].unique()))\n",
    "len(pd.unique(data['category_code']))\n",
    "\n"
   ]
  },
  {
   "cell_type": "markdown",
   "metadata": {},
   "source": [
    "#### 3. Найдите столбцы с пустыми значениями, заполните строковые значения пустой строкой, числовые - 0."
   ]
  },
  {
   "cell_type": "code",
   "execution_count": 7,
   "metadata": {},
   "outputs": [
    {
     "data": {
      "text/html": [
       "<div>\n",
       "<style scoped>\n",
       "    .dataframe tbody tr th:only-of-type {\n",
       "        vertical-align: middle;\n",
       "    }\n",
       "\n",
       "    .dataframe tbody tr th {\n",
       "        vertical-align: top;\n",
       "    }\n",
       "\n",
       "    .dataframe thead th {\n",
       "        text-align: right;\n",
       "    }\n",
       "</style>\n",
       "<table border=\"1\" class=\"dataframe\">\n",
       "  <thead>\n",
       "    <tr style=\"text-align: right;\">\n",
       "      <th></th>\n",
       "      <th>event_time</th>\n",
       "      <th>order_id</th>\n",
       "      <th>product_id</th>\n",
       "      <th>category_id</th>\n",
       "      <th>category_code</th>\n",
       "      <th>brand</th>\n",
       "      <th>price</th>\n",
       "      <th>user_id</th>\n",
       "    </tr>\n",
       "  </thead>\n",
       "  <tbody>\n",
       "    <tr>\n",
       "      <th>2633511</th>\n",
       "      <td>2020-11-21 10:05:04 UTC</td>\n",
       "      <td>2388440981134693938</td>\n",
       "      <td>1515966223509088509</td>\n",
       "      <td>2268105428166509056.0</td>\n",
       "      <td>electronics.smartphone</td>\n",
       "      <td>apple</td>\n",
       "      <td>925.67</td>\n",
       "      <td>1515915625514846976.0</td>\n",
       "    </tr>\n",
       "    <tr>\n",
       "      <th>2633512</th>\n",
       "      <td>2020-11-21 10:06:01 UTC</td>\n",
       "      <td>2388440981134693939</td>\n",
       "      <td>1515966223509090132</td>\n",
       "      <td>2268105407933187072.0</td>\n",
       "      <td>computers.peripherals.printer</td>\n",
       "      <td>canon</td>\n",
       "      <td>299.98</td>\n",
       "      <td>1515915625494009344.0</td>\n",
       "    </tr>\n",
       "    <tr>\n",
       "      <th>2633513</th>\n",
       "      <td>2020-11-21 10:08:14 UTC</td>\n",
       "      <td>2388440981134693940</td>\n",
       "      <td>2273948246856434093</td>\n",
       "      <td>2268105407404704768.0</td>\n",
       "      <td></td>\n",
       "      <td>xiaomi</td>\n",
       "      <td>16.18</td>\n",
       "      <td>1515915625470243072.0</td>\n",
       "    </tr>\n",
       "    <tr>\n",
       "      <th>2633514</th>\n",
       "      <td>2020-11-21 10:08:54 UTC</td>\n",
       "      <td>2388440981134693941</td>\n",
       "      <td>1515966223519279912</td>\n",
       "      <td>2374498914000592384.0</td>\n",
       "      <td>electronics.video.tv</td>\n",
       "      <td>samsung</td>\n",
       "      <td>1736.09</td>\n",
       "      <td>1515915625513809920.0</td>\n",
       "    </tr>\n",
       "    <tr>\n",
       "      <th>2633515</th>\n",
       "      <td>2020-11-21 10:08:54 UTC</td>\n",
       "      <td>2388440981134693941</td>\n",
       "      <td>1515966223509088622</td>\n",
       "      <td>2374498914000592384.0</td>\n",
       "      <td>electronics.video.tv</td>\n",
       "      <td>lg</td>\n",
       "      <td>370.35</td>\n",
       "      <td>1515915625513809920.0</td>\n",
       "    </tr>\n",
       "    <tr>\n",
       "      <th>2633516</th>\n",
       "      <td>2020-11-21 10:10:01 UTC</td>\n",
       "      <td>2388440981134693942</td>\n",
       "      <td>1515966223526602848</td>\n",
       "      <td>2268105428166509056.0</td>\n",
       "      <td>electronics.smartphone</td>\n",
       "      <td>oppo</td>\n",
       "      <td>138.87</td>\n",
       "      <td>1515915625514888704.0</td>\n",
       "    </tr>\n",
       "    <tr>\n",
       "      <th>2633517</th>\n",
       "      <td>2020-11-21 10:10:13 UTC</td>\n",
       "      <td>2388440981134693943</td>\n",
       "      <td>1515966223509089282</td>\n",
       "      <td>2268105428166509056.0</td>\n",
       "      <td>electronics.smartphone</td>\n",
       "      <td>apple</td>\n",
       "      <td>418.96</td>\n",
       "      <td>1515915625514891264.0</td>\n",
       "    </tr>\n",
       "    <tr>\n",
       "      <th>2633518</th>\n",
       "      <td>2020-11-21 10:10:30 UTC</td>\n",
       "      <td>2388440981134693944</td>\n",
       "      <td>1515966223509089917</td>\n",
       "      <td>2268105402447037440.0</td>\n",
       "      <td>appliances.personal.scales</td>\n",
       "      <td>vitek</td>\n",
       "      <td>12.48</td>\n",
       "      <td>1515915625514834176.0</td>\n",
       "    </tr>\n",
       "    <tr>\n",
       "      <th>2633519</th>\n",
       "      <td>2020-11-21 10:10:30 UTC</td>\n",
       "      <td>2388440981134693944</td>\n",
       "      <td>2273948184839454837</td>\n",
       "      <td>2268105440371933952.0</td>\n",
       "      <td></td>\n",
       "      <td>moulinex</td>\n",
       "      <td>41.64</td>\n",
       "      <td>1515915625514834176.0</td>\n",
       "    </tr>\n",
       "    <tr>\n",
       "      <th>2633520</th>\n",
       "      <td>2020-11-21 10:10:30 UTC</td>\n",
       "      <td>2388440981134693944</td>\n",
       "      <td>1515966223509127566</td>\n",
       "      <td>2268105441101742848.0</td>\n",
       "      <td>appliances.kitchen.blender</td>\n",
       "      <td>redmond</td>\n",
       "      <td>53.22</td>\n",
       "      <td>1515915625514834176.0</td>\n",
       "    </tr>\n",
       "  </tbody>\n",
       "</table>\n",
       "</div>"
      ],
      "text/plain": [
       "                      event_time             order_id           product_id  \\\n",
       "2633511  2020-11-21 10:05:04 UTC  2388440981134693938  1515966223509088509   \n",
       "2633512  2020-11-21 10:06:01 UTC  2388440981134693939  1515966223509090132   \n",
       "2633513  2020-11-21 10:08:14 UTC  2388440981134693940  2273948246856434093   \n",
       "2633514  2020-11-21 10:08:54 UTC  2388440981134693941  1515966223519279912   \n",
       "2633515  2020-11-21 10:08:54 UTC  2388440981134693941  1515966223509088622   \n",
       "2633516  2020-11-21 10:10:01 UTC  2388440981134693942  1515966223526602848   \n",
       "2633517  2020-11-21 10:10:13 UTC  2388440981134693943  1515966223509089282   \n",
       "2633518  2020-11-21 10:10:30 UTC  2388440981134693944  1515966223509089917   \n",
       "2633519  2020-11-21 10:10:30 UTC  2388440981134693944  2273948184839454837   \n",
       "2633520  2020-11-21 10:10:30 UTC  2388440981134693944  1515966223509127566   \n",
       "\n",
       "                   category_id                  category_code     brand  \\\n",
       "2633511  2268105428166509056.0         electronics.smartphone     apple   \n",
       "2633512  2268105407933187072.0  computers.peripherals.printer     canon   \n",
       "2633513  2268105407404704768.0                                   xiaomi   \n",
       "2633514  2374498914000592384.0           electronics.video.tv   samsung   \n",
       "2633515  2374498914000592384.0           electronics.video.tv        lg   \n",
       "2633516  2268105428166509056.0         electronics.smartphone      oppo   \n",
       "2633517  2268105428166509056.0         electronics.smartphone     apple   \n",
       "2633518  2268105402447037440.0     appliances.personal.scales     vitek   \n",
       "2633519  2268105440371933952.0                                 moulinex   \n",
       "2633520  2268105441101742848.0     appliances.kitchen.blender   redmond   \n",
       "\n",
       "           price                user_id  \n",
       "2633511   925.67  1515915625514846976.0  \n",
       "2633512   299.98  1515915625494009344.0  \n",
       "2633513    16.18  1515915625470243072.0  \n",
       "2633514  1736.09  1515915625513809920.0  \n",
       "2633515   370.35  1515915625513809920.0  \n",
       "2633516   138.87  1515915625514888704.0  \n",
       "2633517   418.96  1515915625514891264.0  \n",
       "2633518    12.48  1515915625514834176.0  \n",
       "2633519    41.64  1515915625514834176.0  \n",
       "2633520    53.22  1515915625514834176.0  "
      ]
     },
     "execution_count": 7,
     "metadata": {},
     "output_type": "execute_result"
    }
   ],
   "source": [
    "data.price = data.price.fillna(0) \n",
    "data = data.fillna('') \n",
    "data[-10:]"
   ]
  },
  {
   "cell_type": "markdown",
   "metadata": {},
   "source": [
    "#### 4.  Обратите внимание на колонку, содержащую цену товара. Создайте новую колонку, таким образом, чтобы цена стала числом.\n",
    "\n",
    "Для этого необходимо применить функцию-преобразование к каждой строке таблицы (для этого есть соответствующая функция)."
   ]
  },
  {
   "cell_type": "code",
   "execution_count": 8,
   "metadata": {},
   "outputs": [
    {
     "data": {
      "text/plain": [
       "event_time        object\n",
       "order_id           int64\n",
       "product_id         int64\n",
       "category_id       object\n",
       "category_code     object\n",
       "brand             object\n",
       "price            float64\n",
       "user_id           object\n",
       "price_new        float64\n",
       "dtype: object"
      ]
     },
     "execution_count": 8,
     "metadata": {},
     "output_type": "execute_result"
    }
   ],
   "source": [
    "data['price_new'] = data['price'].copy() \n",
    "data['price_new'] = data['price_new'].astype('float')\n",
    "data.dtypes"
   ]
  },
  {
   "cell_type": "markdown",
   "metadata": {},
   "source": [
    "Выведите среднюю/минимальную/максимальную цену у товара."
   ]
  },
  {
   "cell_type": "code",
   "execution_count": 9,
   "metadata": {},
   "outputs": [
    {
     "data": {
      "text/plain": [
       "min         0.000000\n",
       "mean      128.818577\n",
       "max     50925.900000\n",
       "Name: price_new, dtype: float64"
      ]
     },
     "execution_count": 9,
     "metadata": {},
     "output_type": "execute_result"
    }
   ],
   "source": [
    "data[\"price_new\"].agg([\"min\", \"mean\", \"max\"])"
   ]
  },
  {
   "cell_type": "markdown",
   "metadata": {},
   "source": [
    "Удалите старую колонку с ценой."
   ]
  },
  {
   "cell_type": "code",
   "execution_count": 10,
   "metadata": {},
   "outputs": [],
   "source": [
    "data = data.drop(columns = ['price'], axis = 1)"
   ]
  },
  {
   "cell_type": "code",
   "execution_count": 11,
   "metadata": {},
   "outputs": [
    {
     "data": {
      "text/plain": [
       "event_time        object\n",
       "order_id           int64\n",
       "product_id         int64\n",
       "category_id       object\n",
       "category_code     object\n",
       "brand             object\n",
       "user_id           object\n",
       "price_new        float64\n",
       "dtype: object"
      ]
     },
     "execution_count": 11,
     "metadata": {},
     "output_type": "execute_result"
    }
   ],
   "source": [
    "data.dtypes"
   ]
  },
  {
   "cell_type": "markdown",
   "metadata": {},
   "source": [
    "#### 5. Отсортируйте стоимость товаров по убыванию, выведите 7 дорогих товаров. Отсортируйте товары по возрастанию стоимости, выведите 7 дешевых товаров  (по choice_description)\n",
    "\n",
    "Для этого избавьтесь от дубликатов и отсортируйте товары. Не забудьте про количество товара."
   ]
  },
  {
   "cell_type": "code",
   "execution_count": 12,
   "metadata": {},
   "outputs": [
    {
     "data": {
      "text/html": [
       "<div>\n",
       "<style scoped>\n",
       "    .dataframe tbody tr th:only-of-type {\n",
       "        vertical-align: middle;\n",
       "    }\n",
       "\n",
       "    .dataframe tbody tr th {\n",
       "        vertical-align: top;\n",
       "    }\n",
       "\n",
       "    .dataframe thead th {\n",
       "        text-align: right;\n",
       "    }\n",
       "</style>\n",
       "<table border=\"1\" class=\"dataframe\">\n",
       "  <thead>\n",
       "    <tr style=\"text-align: right;\">\n",
       "      <th></th>\n",
       "      <th>event_time</th>\n",
       "      <th>order_id</th>\n",
       "      <th>product_id</th>\n",
       "      <th>category_id</th>\n",
       "      <th>category_code</th>\n",
       "      <th>brand</th>\n",
       "      <th>user_id</th>\n",
       "      <th>price_new</th>\n",
       "    </tr>\n",
       "  </thead>\n",
       "  <tbody>\n",
       "    <tr>\n",
       "      <th>1144303</th>\n",
       "      <td>2020-05-26 08:12:38 UTC</td>\n",
       "      <td>2353234364520727464</td>\n",
       "      <td>1515966223509105016</td>\n",
       "      <td>2374498914000592384.0</td>\n",
       "      <td>electronics.video.tv</td>\n",
       "      <td>samsung</td>\n",
       "      <td></td>\n",
       "      <td>50925.90</td>\n",
       "    </tr>\n",
       "    <tr>\n",
       "      <th>28182</th>\n",
       "      <td>2020-06-25 10:08:37 UTC</td>\n",
       "      <td>2339244674033647628</td>\n",
       "      <td>1515966223509131884</td>\n",
       "      <td>2374498914000592384.0</td>\n",
       "      <td>electronics.video.tv</td>\n",
       "      <td></td>\n",
       "      <td>1515915625465546752.0</td>\n",
       "      <td>18328.68</td>\n",
       "    </tr>\n",
       "    <tr>\n",
       "      <th>28623</th>\n",
       "      <td>2020-06-26 09:10:44 UTC</td>\n",
       "      <td>2339940319191106553</td>\n",
       "      <td>1515966223509566954</td>\n",
       "      <td>2374498914000592384.0</td>\n",
       "      <td>electronics.video.tv</td>\n",
       "      <td></td>\n",
       "      <td>1515915625465546752.0</td>\n",
       "      <td>13310.16</td>\n",
       "    </tr>\n",
       "    <tr>\n",
       "      <th>1627981</th>\n",
       "      <td>2020-07-03 11:59:01 UTC</td>\n",
       "      <td>2353288509000777918</td>\n",
       "      <td>2273948305316643078</td>\n",
       "      <td>2268105422957183232.0</td>\n",
       "      <td>electronics.video.tv</td>\n",
       "      <td>lg</td>\n",
       "      <td>1515915625484619008.0</td>\n",
       "      <td>11574.05</td>\n",
       "    </tr>\n",
       "    <tr>\n",
       "      <th>1153319</th>\n",
       "      <td>2020-05-27 06:37:30 UTC</td>\n",
       "      <td>2353235498996073224</td>\n",
       "      <td>2273948305316643078</td>\n",
       "      <td>2268105422957183232.0</td>\n",
       "      <td>electronics.video.tv</td>\n",
       "      <td>lg</td>\n",
       "      <td></td>\n",
       "      <td>11574.05</td>\n",
       "    </tr>\n",
       "    <tr>\n",
       "      <th>2270999</th>\n",
       "      <td>2020-09-16 06:46:10 UTC</td>\n",
       "      <td>2388440981134484484</td>\n",
       "      <td>1515966223520801280</td>\n",
       "      <td>2374498914000592384.0</td>\n",
       "      <td>electronics.video.tv</td>\n",
       "      <td>samsung</td>\n",
       "      <td>1515915625478269952.0</td>\n",
       "      <td>10416.64</td>\n",
       "    </tr>\n",
       "    <tr>\n",
       "      <th>8742</th>\n",
       "      <td>2020-05-14 09:09:41 UTC</td>\n",
       "      <td>2308774433587724743</td>\n",
       "      <td>1515966223509105377</td>\n",
       "      <td>2268105423133344000.0</td>\n",
       "      <td>electronics.smartphone</td>\n",
       "      <td>lg</td>\n",
       "      <td>1515915625458929664.0</td>\n",
       "      <td>9606.48</td>\n",
       "    </tr>\n",
       "  </tbody>\n",
       "</table>\n",
       "</div>"
      ],
      "text/plain": [
       "                      event_time             order_id           product_id  \\\n",
       "1144303  2020-05-26 08:12:38 UTC  2353234364520727464  1515966223509105016   \n",
       "28182    2020-06-25 10:08:37 UTC  2339244674033647628  1515966223509131884   \n",
       "28623    2020-06-26 09:10:44 UTC  2339940319191106553  1515966223509566954   \n",
       "1627981  2020-07-03 11:59:01 UTC  2353288509000777918  2273948305316643078   \n",
       "1153319  2020-05-27 06:37:30 UTC  2353235498996073224  2273948305316643078   \n",
       "2270999  2020-09-16 06:46:10 UTC  2388440981134484484  1515966223520801280   \n",
       "8742     2020-05-14 09:09:41 UTC  2308774433587724743  1515966223509105377   \n",
       "\n",
       "                   category_id           category_code    brand  \\\n",
       "1144303  2374498914000592384.0    electronics.video.tv  samsung   \n",
       "28182    2374498914000592384.0    electronics.video.tv            \n",
       "28623    2374498914000592384.0    electronics.video.tv            \n",
       "1627981  2268105422957183232.0    electronics.video.tv       lg   \n",
       "1153319  2268105422957183232.0    electronics.video.tv       lg   \n",
       "2270999  2374498914000592384.0    electronics.video.tv  samsung   \n",
       "8742     2268105423133344000.0  electronics.smartphone       lg   \n",
       "\n",
       "                       user_id  price_new  \n",
       "1144303                          50925.90  \n",
       "28182    1515915625465546752.0   18328.68  \n",
       "28623    1515915625465546752.0   13310.16  \n",
       "1627981  1515915625484619008.0   11574.05  \n",
       "1153319                          11574.05  \n",
       "2270999  1515915625478269952.0   10416.64  \n",
       "8742     1515915625458929664.0    9606.48  "
      ]
     },
     "execution_count": 12,
     "metadata": {},
     "output_type": "execute_result"
    }
   ],
   "source": [
    "data.sort_values('price_new', ascending=False).head(7) #если фолс по убыванию"
   ]
  },
  {
   "cell_type": "code",
   "execution_count": 13,
   "metadata": {},
   "outputs": [
    {
     "data": {
      "text/html": [
       "<div>\n",
       "<style scoped>\n",
       "    .dataframe tbody tr th:only-of-type {\n",
       "        vertical-align: middle;\n",
       "    }\n",
       "\n",
       "    .dataframe tbody tr th {\n",
       "        vertical-align: top;\n",
       "    }\n",
       "\n",
       "    .dataframe thead th {\n",
       "        text-align: right;\n",
       "    }\n",
       "</style>\n",
       "<table border=\"1\" class=\"dataframe\">\n",
       "  <thead>\n",
       "    <tr style=\"text-align: right;\">\n",
       "      <th></th>\n",
       "      <th>event_time</th>\n",
       "      <th>order_id</th>\n",
       "      <th>product_id</th>\n",
       "      <th>category_id</th>\n",
       "      <th>category_code</th>\n",
       "      <th>brand</th>\n",
       "      <th>user_id</th>\n",
       "      <th>price_new</th>\n",
       "    </tr>\n",
       "  </thead>\n",
       "  <tbody>\n",
       "    <tr>\n",
       "      <th>758497</th>\n",
       "      <td>2020-03-08 05:10:15 UTC</td>\n",
       "      <td>2348815503625027987</td>\n",
       "      <td>1515966223523303301</td>\n",
       "      <td></td>\n",
       "      <td>16.18</td>\n",
       "      <td></td>\n",
       "      <td></td>\n",
       "      <td>0.0</td>\n",
       "    </tr>\n",
       "    <tr>\n",
       "      <th>2204350</th>\n",
       "      <td>2020-09-10 14:26:07 UTC</td>\n",
       "      <td>2388440981134446909</td>\n",
       "      <td>1515966223523303308</td>\n",
       "      <td></td>\n",
       "      <td>29.63</td>\n",
       "      <td></td>\n",
       "      <td></td>\n",
       "      <td>0.0</td>\n",
       "    </tr>\n",
       "    <tr>\n",
       "      <th>345450</th>\n",
       "      <td>2020-02-03 05:11:18 UTC</td>\n",
       "      <td>2348785157516821140</td>\n",
       "      <td>1515966223509266737</td>\n",
       "      <td></td>\n",
       "      <td>0.00</td>\n",
       "      <td></td>\n",
       "      <td></td>\n",
       "      <td>0.0</td>\n",
       "    </tr>\n",
       "    <tr>\n",
       "      <th>1209904</th>\n",
       "      <td>2020-06-01 09:51:14 UTC</td>\n",
       "      <td>2353242210981380669</td>\n",
       "      <td>1515966223527009156</td>\n",
       "      <td></td>\n",
       "      <td>0.81</td>\n",
       "      <td></td>\n",
       "      <td></td>\n",
       "      <td>0.0</td>\n",
       "    </tr>\n",
       "    <tr>\n",
       "      <th>345447</th>\n",
       "      <td>2020-02-04 12:10:49 UTC</td>\n",
       "      <td>2348785157105779346</td>\n",
       "      <td>1515966223527240565</td>\n",
       "      <td></td>\n",
       "      <td>14.33</td>\n",
       "      <td></td>\n",
       "      <td></td>\n",
       "      <td>0.0</td>\n",
       "    </tr>\n",
       "    <tr>\n",
       "      <th>1209911</th>\n",
       "      <td>2020-06-01 12:27:17 UTC</td>\n",
       "      <td>2353242211258204736</td>\n",
       "      <td>1515966223527009196</td>\n",
       "      <td></td>\n",
       "      <td>11.57</td>\n",
       "      <td></td>\n",
       "      <td></td>\n",
       "      <td>0.0</td>\n",
       "    </tr>\n",
       "    <tr>\n",
       "      <th>1209912</th>\n",
       "      <td>2020-06-01 12:27:17 UTC</td>\n",
       "      <td>2353242211258204736</td>\n",
       "      <td>1515966223527459989</td>\n",
       "      <td></td>\n",
       "      <td>17.36</td>\n",
       "      <td></td>\n",
       "      <td></td>\n",
       "      <td>0.0</td>\n",
       "    </tr>\n",
       "  </tbody>\n",
       "</table>\n",
       "</div>"
      ],
      "text/plain": [
       "                      event_time             order_id           product_id  \\\n",
       "758497   2020-03-08 05:10:15 UTC  2348815503625027987  1515966223523303301   \n",
       "2204350  2020-09-10 14:26:07 UTC  2388440981134446909  1515966223523303308   \n",
       "345450   2020-02-03 05:11:18 UTC  2348785157516821140  1515966223509266737   \n",
       "1209904  2020-06-01 09:51:14 UTC  2353242210981380669  1515966223527009156   \n",
       "345447   2020-02-04 12:10:49 UTC  2348785157105779346  1515966223527240565   \n",
       "1209911  2020-06-01 12:27:17 UTC  2353242211258204736  1515966223527009196   \n",
       "1209912  2020-06-01 12:27:17 UTC  2353242211258204736  1515966223527459989   \n",
       "\n",
       "        category_id category_code brand user_id  price_new  \n",
       "758497                      16.18                      0.0  \n",
       "2204350                     29.63                      0.0  \n",
       "345450                       0.00                      0.0  \n",
       "1209904                      0.81                      0.0  \n",
       "345447                      14.33                      0.0  \n",
       "1209911                     11.57                      0.0  \n",
       "1209912                     17.36                      0.0  "
      ]
     },
     "execution_count": 13,
     "metadata": {},
     "output_type": "execute_result"
    }
   ],
   "source": [
    "data.sort_values('price_new', ascending=True).head(7)"
   ]
  },
  {
   "cell_type": "markdown",
   "metadata": {},
   "source": [
    "#### 6. Выведите информацию о том, сколько раз клиенты покупали больше 1 товара apple (brand)?"
   ]
  },
  {
   "cell_type": "code",
   "execution_count": 14,
   "metadata": {
    "scrolled": true
   },
   "outputs": [
    {
     "name": "stdout",
     "output_type": "stream",
     "text": [
      "7141\n"
     ]
    }
   ],
   "source": [
    "data1 = data.loc[data['brand'] == 'apple']\n",
    "users=data1['user_id'] #оставляем столбик юзер айди\n",
    "n = users.value_counts()>1 #value_counts - сколько раз встречается значение\n",
    "print(n.sum()) #считаем сумму\n"
   ]
  },
  {
   "cell_type": "markdown",
   "metadata": {},
   "source": [
    "#### 7. Выведите информацию о среднем чеке у заказа и сколько в среднем товаров покупают?\n",
    "\n",
    "Если необходимо провести вычисления в терминах заказов, то будет удобно сгруппировать строки по заказам и посчитать необходимые значения."
   ]
  },
  {
   "cell_type": "code",
   "execution_count": 15,
   "metadata": {},
   "outputs": [
    {
     "name": "stdout",
     "output_type": "stream",
     "text": [
      "1.8348661502467138\n",
      "236.3648464535493\n"
     ]
    }
   ],
   "source": [
    "data1 = data.groupby('order_id').count() # подсчитываем кол-во значений каждого столбца для каждого заказа\n",
    "print(data1[\"product_id\"].mean()) # находим средее количесвто товаров для каждого заказа\n",
    "\n",
    "group = data.groupby(['order_id'])\n",
    "print(group['price_new'].sum().mean())"
   ]
  },
  {
   "cell_type": "markdown",
   "metadata": {},
   "source": [
    "#### 8. Выведите количество заказов с 1 товаром."
   ]
  },
  {
   "cell_type": "code",
   "execution_count": 16,
   "metadata": {},
   "outputs": [
    {
     "data": {
      "text/plain": [
       "871751"
      ]
     },
     "execution_count": 16,
     "metadata": {},
     "output_type": "execute_result"
    }
   ],
   "source": [
    "data1 = data.groupby('order_id').count()     # подсчитываем кол-во значений каждого столбца для каждого заказа \n",
    "data1['product_id'].eq(1).sum()            # выводим сумму строк (order_id) где product_id равно 1"
   ]
  },
  {
   "cell_type": "markdown",
   "metadata": {},
   "source": [
    "#### 9. Выведите самую популярную категорию товара."
   ]
  },
  {
   "cell_type": "code",
   "execution_count": 17,
   "metadata": {},
   "outputs": [
    {
     "data": {
      "text/plain": [
       "''"
      ]
     },
     "execution_count": 17,
     "metadata": {},
     "output_type": "execute_result"
    }
   ],
   "source": [
    "data['category_code'].value_counts().reset_index().iloc[0]['index']"
   ]
  },
  {
   "cell_type": "markdown",
   "metadata": {},
   "source": [
    "#### 10. Выведите виды товаров Apple. Какой из них чаще всего покупают? Какой из них самый дорогой? "
   ]
  },
  {
   "cell_type": "code",
   "execution_count": 18,
   "metadata": {},
   "outputs": [
    {
     "name": "stdout",
     "output_type": "stream",
     "text": [
      "['electronics.smartphone' 'electronics.audio.headphone'\n",
      " 'electronics.clocks' '' 'computers.notebook' 'electronics.tablet'\n",
      " 'construction.tools.screw' 'computers.components.hdd' 'computers.desktop'\n",
      " 'computers.peripherals.keyboard' 'computers.peripherals.mouse'\n",
      " 'computers.components.cooler']\n"
     ]
    }
   ],
   "source": [
    "data1 = data.loc[data['brand'] == 'apple']\n",
    "print(data1['category_code'].unique())"
   ]
  },
  {
   "cell_type": "code",
   "execution_count": 20,
   "metadata": {},
   "outputs": [
    {
     "name": "stdout",
     "output_type": "stream",
     "text": [
      "                                event_time  order_id  product_id  category_id  \\\n",
      "category_code                                                                   \n",
      "                                      4059      4059        4059         4059   \n",
      "computers.components.cooler            217       217         217          217   \n",
      "computers.components.hdd               725       725         725          725   \n",
      "computers.desktop                      174       174         174          174   \n",
      "computers.notebook                    3922      3922        3922         3922   \n",
      "computers.peripherals.keyboard         127       127         127          127   \n",
      "computers.peripherals.mouse            256       256         256          256   \n",
      "construction.tools.screw              1254      1254        1254         1254   \n",
      "electronics.audio.headphone           9568      9568        9568         9568   \n",
      "electronics.clocks                    5799      5799        5799         5799   \n",
      "electronics.smartphone               46030     46030       46030        46030   \n",
      "electronics.tablet                    2578      2578        2578         2578   \n",
      "\n",
      "                                brand  user_id  price_new  \n",
      "category_code                                              \n",
      "                                 4059     4059       4059  \n",
      "computers.components.cooler       217      217        217  \n",
      "computers.components.hdd          725      725        725  \n",
      "computers.desktop                 174      174        174  \n",
      "computers.notebook               3922     3922       3922  \n",
      "computers.peripherals.keyboard    127      127        127  \n",
      "computers.peripherals.mouse       256      256        256  \n",
      "construction.tools.screw         1254     1254       1254  \n",
      "electronics.audio.headphone      9568     9568       9568  \n",
      "electronics.clocks               5799     5799       5799  \n",
      "electronics.smartphone          46030    46030      46030  \n",
      "electronics.tablet               2578     2578       2578  \n",
      "                        event_time  order_id  product_id  category_id  brand  \\\n",
      "category_code                                                                  \n",
      "electronics.smartphone       46030     46030       46030        46030  46030   \n",
      "\n",
      "                        user_id  price_new  \n",
      "category_code                               \n",
      "electronics.smartphone    46030      46030  \n",
      "Index(['electronics.smartphone'], dtype='object', name='category_code')\n"
     ]
    }
   ],
   "source": [
    "data2 = data1.groupby('category_code').count()\n",
    "product=data2[data2['product_id']==data2['product_id'].max()]\n",
    "print(product.index)"
   ]
  },
  {
   "cell_type": "code",
   "execution_count": 19,
   "metadata": {},
   "outputs": [
    {
     "data": {
      "text/html": [
       "<div>\n",
       "<style scoped>\n",
       "    .dataframe tbody tr th:only-of-type {\n",
       "        vertical-align: middle;\n",
       "    }\n",
       "\n",
       "    .dataframe tbody tr th {\n",
       "        vertical-align: top;\n",
       "    }\n",
       "\n",
       "    .dataframe thead th {\n",
       "        text-align: right;\n",
       "    }\n",
       "</style>\n",
       "<table border=\"1\" class=\"dataframe\">\n",
       "  <thead>\n",
       "    <tr style=\"text-align: right;\">\n",
       "      <th></th>\n",
       "      <th>event_time</th>\n",
       "      <th>order_id</th>\n",
       "      <th>product_id</th>\n",
       "      <th>category_id</th>\n",
       "      <th>category_code</th>\n",
       "      <th>brand</th>\n",
       "      <th>user_id</th>\n",
       "      <th>price_new</th>\n",
       "    </tr>\n",
       "  </thead>\n",
       "  <tbody>\n",
       "    <tr>\n",
       "      <th>16698</th>\n",
       "      <td>2020-05-26 07:07:18 UTC</td>\n",
       "      <td>2317410142749982986</td>\n",
       "      <td>1515966223509130727</td>\n",
       "      <td>2268105409409581056.0</td>\n",
       "      <td>computers.desktop</td>\n",
       "      <td>apple</td>\n",
       "      <td>1515915625441849088.0</td>\n",
       "      <td>6018.5</td>\n",
       "    </tr>\n",
       "  </tbody>\n",
       "</table>\n",
       "</div>"
      ],
      "text/plain": [
       "                    event_time             order_id           product_id  \\\n",
       "16698  2020-05-26 07:07:18 UTC  2317410142749982986  1515966223509130727   \n",
       "\n",
       "                 category_id      category_code  brand                user_id  \\\n",
       "16698  2268105409409581056.0  computers.desktop  apple  1515915625441849088.0   \n",
       "\n",
       "       price_new  \n",
       "16698     6018.5  "
      ]
     },
     "execution_count": 19,
     "metadata": {},
     "output_type": "execute_result"
    }
   ],
   "source": [
    "data1[data1['price_new']==data1['price_new'].max()].head(1)"
   ]
  },
  {
   "cell_type": "markdown",
   "metadata": {
    "collapsed": true
   },
   "source": [
    "#### 11. В каком количестве заказов есть товар, который стоит более 40% от суммы всего чека?\n",
    "\n",
    "Возможно, будет удобно посчитать отдельно средний чек, добавить его в исходные данные и сделать необходимые проверки."
   ]
  },
  {
   "cell_type": "code",
   "execution_count": 21,
   "metadata": {},
   "outputs": [
    {
     "name": "stdout",
     "output_type": "stream",
     "text": [
      "<pandas.core.groupby.generic.DataFrameGroupBy object at 0x000002300202BFD0>\n",
      "order_id\n",
      "2294359932054536986     324.02\n",
      "2294444024058086220     155.04\n",
      "2294584263154074236     217.57\n",
      "2295716521449619559      39.33\n",
      "2295740594749702229    5548.04\n",
      "                        ...   \n",
      "2388440981134693940      16.18\n",
      "2388440981134693941    2106.44\n",
      "2388440981134693942     138.87\n",
      "2388440981134693943     418.96\n",
      "2388440981134693944     107.34\n",
      "Name: price_new, Length: 1435266, dtype: float64\n"
     ]
    },
    {
     "data": {
      "text/plain": [
       "1382046"
      ]
     },
     "execution_count": 21,
     "metadata": {},
     "output_type": "execute_result"
    }
   ],
   "source": [
    "r = data.groupby('order_id')\n",
    "checks = r['price_new'].sum()\n",
    "print(checks)\n",
    "data['check'] = data['order_id'].map(checks)\n",
    "data.loc[data['price_new'] > 0.40 * data['check']]['order_id'].nunique()"
   ]
  },
  {
   "cell_type": "markdown",
   "metadata": {},
   "source": [
    "#### 12. Предположим, что в данных была ошибка и товар с product_id 1515966223509089906, который стоил 162.01, должен был стоить 170,02. Скорректируйте данные в таблицы и посчитайте, на какой процент больше денег было заработано с этого товара. Не забывайте, что количество товара не всегда равно 1."
   ]
  },
  {
   "cell_type": "code",
   "execution_count": 21,
   "metadata": {},
   "outputs": [
    {
     "name": "stdout",
     "output_type": "stream",
     "text": [
      "Заработали:  143216.84000000003\n",
      "Заработали бы:  150297.68000000002\n",
      "Проценты:  4.944139250663525\n"
     ]
    },
    {
     "name": "stderr",
     "output_type": "stream",
     "text": [
      "C:\\Users\\microb\\AppData\\Local\\Temp\\ipykernel_5044\\3346036934.py:1: FutureWarning: Dropping of nuisance columns in DataFrame reductions (with 'numeric_only=None') is deprecated; in a future version this will raise TypeError.  Select only valid columns before calling the reduction.\n",
      "  old_sum = data[data['product_id'] == 1515966223509089906].sum()['price_new']\n",
      "C:\\Users\\microb\\AppData\\Local\\Temp\\ipykernel_5044\\3346036934.py:3: FutureWarning: Dropping of nuisance columns in DataFrame reductions (with 'numeric_only=None') is deprecated; in a future version this will raise TypeError.  Select only valid columns before calling the reduction.\n",
      "  new_sum = data[data['product_id'] == 1515966223509089906].sum()['price_new']\n"
     ]
    }
   ],
   "source": [
    "old_sum = data[data['product_id'] == 1515966223509089906].sum()['price_new']\n",
    "data.loc[(data['product_id']  == 1515966223509089906), 'price_new'] = 170.02\n",
    "new_sum = data[data['product_id'] == 1515966223509089906].sum()['price_new']\n",
    "print(\"Заработали: \", old_sum)\n",
    "print(\"Заработали бы: \", new_sum)\n",
    "print(\"Проценты: \", (new_sum / old_sum ) * 100 - 100)"
   ]
  },
  {
   "cell_type": "markdown",
   "metadata": {},
   "source": [
    "#### 13. Создайте новый DateFrame из матрицы, созданной ниже. Назовите колонки index, column1, column2 и сделайте первую колонку индексом."
   ]
  },
  {
   "cell_type": "code",
   "execution_count": 22,
   "metadata": {},
   "outputs": [
    {
     "name": "stdout",
     "output_type": "stream",
     "text": [
      "           column1   column2\n",
      "index                       \n",
      "0.768652  0.062182  0.753502\n",
      "0.988461  0.324520  0.462665\n",
      "0.104583  0.676079  0.735431\n",
      "0.091115  0.309561  0.886666\n",
      "0.749499  0.399021  0.621874\n",
      "0.488865  0.826099  0.173693\n",
      "0.400970  0.961284  0.503528\n",
      "0.425239  0.505942  0.240836\n",
      "0.560335  0.856619  0.712955\n",
      "0.098421  0.865363  0.076979\n"
     ]
    }
   ],
   "source": [
    "import numpy as np\n",
    "new = np.random.rand(10, 3)\n",
    "\n",
    "data_random = pd.DataFrame(new, columns=['index', 'column1', 'column2'])\n",
    "data_random = data_random.set_index('index')\n",
    "print(data_random)\n",
    "data_random.to_csv('rand_data.csv', header=False, index=False)"
   ]
  },
  {
   "cell_type": "markdown",
   "metadata": {},
   "source": [
    "Сохраните DataFrame локально в формате csv без индексов и названий столбцов."
   ]
  },
  {
   "cell_type": "markdown",
   "metadata": {},
   "source": [
    "## 2. Визуализации и matplotlib"
   ]
  },
  {
   "cell_type": "markdown",
   "metadata": {},
   "source": [
    "Библиотека matplotlib - это бибилиотека двумерной графики для языка программирования python с помощью которой можно создавать высококачественные рисунки различных форматов. Matplotlib представляет собой модуль-пакет для python.\n",
    "Matplotlib cостоит из множества модулей. Модули наполнены различными классами и функциями, которые иерархически связаны между собой."
   ]
  },
  {
   "cell_type": "code",
   "execution_count": 23,
   "metadata": {},
   "outputs": [],
   "source": [
    "%matplotlib inline\n",
    "import matplotlib.pyplot as plt\n",
    "import matplotlib.pyplot as set_ylim\n",
    "import matplotlib.pyplot as set_xlim"
   ]
  },
  {
   "cell_type": "markdown",
   "metadata": {},
   "source": [
    "На самом деле мы уже импортировали matplotlib внутри %pylab inline в начале задания.\n",
    "\n",
    "Работать мы будем с той же выборкой покупкок. Добавим новую колонку с датой покупки."
   ]
  },
  {
   "cell_type": "code",
   "execution_count": 24,
   "metadata": {},
   "outputs": [
    {
     "ename": "ModuleNotFoundError",
     "evalue": "No module named 'seaborn'",
     "output_type": "error",
     "traceback": [
      "\u001b[1;31m---------------------------------------------------------------------------\u001b[0m",
      "\u001b[1;31mModuleNotFoundError\u001b[0m                       Traceback (most recent call last)",
      "Input \u001b[1;32mIn [24]\u001b[0m, in \u001b[0;36m<module>\u001b[1;34m\u001b[0m\n\u001b[0;32m      1\u001b[0m \u001b[38;5;28;01mimport\u001b[39;00m \u001b[38;5;21;01mdatetime\u001b[39;00m\n\u001b[0;32m      2\u001b[0m \u001b[38;5;28;01mimport\u001b[39;00m \u001b[38;5;21;01mrandom\u001b[39;00m\n\u001b[1;32m----> 3\u001b[0m \u001b[38;5;28;01mimport\u001b[39;00m \u001b[38;5;21;01mseaborn\u001b[39;00m \u001b[38;5;28;01mas\u001b[39;00m \u001b[38;5;21;01msns\u001b[39;00m\n\u001b[0;32m      4\u001b[0m start \u001b[38;5;241m=\u001b[39m datetime\u001b[38;5;241m.\u001b[39mdatetime(\u001b[38;5;241m2020\u001b[39m, \u001b[38;5;241m5\u001b[39m, \u001b[38;5;241m24\u001b[39m)\n\u001b[0;32m      5\u001b[0m end \u001b[38;5;241m=\u001b[39m datetime\u001b[38;5;241m.\u001b[39mdatetime(\u001b[38;5;241m2020\u001b[39m, \u001b[38;5;241m6\u001b[39m, \u001b[38;5;241m12\u001b[39m)\n",
      "\u001b[1;31mModuleNotFoundError\u001b[0m: No module named 'seaborn'"
     ]
    }
   ],
   "source": [
    "import datetime\n",
    "import random\n",
    "import seaborn as sns\n",
    "start = datetime.datetime(2020, 5, 24)\n",
    "end = datetime.datetime(2020, 6, 12)\n",
    "delta_seconds = int((end - start).total_seconds())\n",
    "\n",
    "dates = pd.DataFrame(index=data.order_id.unique())\n",
    "dates['date'] = [\n",
    "(start + datetime.timedelta(seconds=random.randint(0, delta_seconds))).strftime('%Y-%m-%d')\n",
    "for _ in range(data.order_id.nunique())]\n",
    "\n",
    "# если DataFrame с покупками из прошлого заказа называется не df, замените на ваше название ниже\n",
    "data['date'] = data.order_id.map(dates['date'])"
   ]
  },
  {
   "cell_type": "markdown",
   "metadata": {},
   "source": [
    "#### 1. Постройте гистограмму распределения сумм покупок и гистограмму средних цен отдельных видов продуктов product_id. \n",
    "\n",
    "Изображайте на двух соседних графиках. Для используйте subplot."
   ]
  },
  {
   "cell_type": "code",
   "execution_count": null,
   "metadata": {},
   "outputs": [],
   "source": [
    "plt.figure(figsize=(14, 6))\n",
    "plt.subplot(1, 2, 1)\n",
    "sns.distplot(data.groupby('order_id')['price_new'].sum(), label='сумма покупок', color='green')\n",
    "plt.xlabel('Сумма')\n",
    "plt.ylabel('Вероятность')\n",
    "plt.legend()\n",
    "plt.subplot(1, 2, 2)\n",
    "sns.distplot(data.groupby('product_id')['price_new'].mean(), label='средние цен', color='yellow');\n",
    "plt.xlabel('Средняя цена')\n",
    "plt.ylabel('Вероятность')\n",
    "plt.legend()"
   ]
  },
  {
   "cell_type": "markdown",
   "metadata": {},
   "source": [
    "#### 2. Постройте график зависимости суммы покупок от дней."
   ]
  },
  {
   "cell_type": "code",
   "execution_count": null,
   "metadata": {},
   "outputs": [],
   "source": [
    "plt.figure(figsize=(10, 10))\n",
    "series = data.groupby(['date', 'order_id'])['price_new'].sum().groupby('date').sum()\n",
    "x = series.index\n",
    "y = series.values\n",
    "plt.scatter(x, y)\n",
    "plt.plot(x, y, label='График зависимости', color='red')\n",
    "plt.xticks(x, rotation='vertical')\n",
    "plt.xlabel('Дата')\n",
    "plt.ylabel('Сумма продаж за 1 день')\n",
    "plt.legend()"
   ]
  },
  {
   "cell_type": "markdown",
   "metadata": {},
   "source": [
    "#### 3. Постройте средних сумм покупок по дням недели (bar plot)."
   ]
  },
  {
   "cell_type": "code",
   "execution_count": null,
   "metadata": {},
   "outputs": [],
   "source": [
    "plt.figure(figsize=(7, 5))\n",
    "data['date'] = pd.to_datetime(data['date'])\n",
    "data['weekday'] = data['date'].dt.weekday\n",
    "bar_data = data.groupby('weekday')['price_new'].sum()\n",
    "x = bar_data.index\n",
    "y = bar_data.values\n",
    "sns.barplot(x, y, label='Средних сумм покупок по дням недели')\n",
    "plt.xlabel('День недели')\n",
    "plt.ylabel('Средняя сумма')\n",
    "plt.legend()"
   ]
  },
  {
   "cell_type": "markdown",
   "metadata": {},
   "source": [
    "#### 4. Постройте график зависимости денег за товар от купленного количества (scatter plot)."
   ]
  },
  {
   "cell_type": "code",
   "execution_count": null,
   "metadata": {},
   "outputs": [],
   "source": [
    "plt.figure(figsize=(10, 7))\n",
    "data['numcounts'] = data['product_id'].values\n",
    "x = data['numcounts']\n",
    "y = data['price_new'].values\n",
    "sns.scatterplot(x, y, label='График зависимости')\n",
    "plt.xlabel('Величина')\n",
    "plt.ylabel('Цена')\n",
    "plt.legend()"
   ]
  },
  {
   "cell_type": "markdown",
   "metadata": {},
   "source": [
    "Сохраните график в формате pdf (так он останется векторизованным)."
   ]
  },
  {
   "cell_type": "code",
   "execution_count": null,
   "metadata": {},
   "outputs": [],
   "source": [
    "plt.savefig('Figure.pdf')"
   ]
  },
  {
   "cell_type": "markdown",
   "metadata": {},
   "source": [
    "Кстати, существует надстройка над matplotlib под названием [seaborn](https://jakevdp.github.io/PythonDataScienceHandbook/04.14-visualization-with-seaborn.html). Иногда удобнее и красивее делать визуализации через неё. "
   ]
  }
 ],
 "metadata": {
  "kernel_info": {
   "name": "py36"
  },
  "kernelspec": {
   "display_name": "Python 3 (ipykernel)",
   "language": "python",
   "name": "python3"
  },
  "language_info": {
   "codemirror_mode": {
    "name": "ipython",
    "version": 3
   },
   "file_extension": ".py",
   "mimetype": "text/x-python",
   "name": "python",
   "nbconvert_exporter": "python",
   "pygments_lexer": "ipython3",
   "version": "3.10.2"
  },
  "nteract": {
   "version": "0.11.6"
  }
 },
 "nbformat": 4,
 "nbformat_minor": 2
}
